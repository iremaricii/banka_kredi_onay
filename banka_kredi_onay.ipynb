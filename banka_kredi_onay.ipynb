{
  "nbformat": 4,
  "nbformat_minor": 0,
  "metadata": {
    "colab": {
      "provenance": [],
      "gpuType": "T4",
      "authorship_tag": "ABX9TyOORRD0XMTuQqtzjygzQJMR",
      "include_colab_link": true
    },
    "kernelspec": {
      "name": "python3",
      "display_name": "Python 3"
    },
    "language_info": {
      "name": "python"
    },
    "accelerator": "GPU"
  },
  "cells": [
    {
      "cell_type": "markdown",
      "metadata": {
        "id": "view-in-github",
        "colab_type": "text"
      },
      "source": [
        "<a href=\"https://colab.research.google.com/github/iremaricii/banka_kredi_onay/blob/main/banka_kredi_onay.ipynb\" target=\"_parent\"><img src=\"https://colab.research.google.com/assets/colab-badge.svg\" alt=\"Open In Colab\"/></a>"
      ]
    },
    {
      "cell_type": "code",
      "execution_count": null,
      "metadata": {
        "id": "1XwFg4Cfp7Od"
      },
      "outputs": [],
      "source": [
        "import numpy as np\n",
        "import pandas as pd\n",
        "import tensorflow as tf\n",
        "from tensorflow import keras\n",
        "from sklearn.model_selection import train_test_split\n",
        "from sklearn.preprocessing import StandardScaler\n",
        "\n",
        "data = {\n",
        "    'Gelir' : [50000, 40000, 120000, 30000, 90000],\n",
        "    'Borc' : [2000, 2500, 1000, 3000, 1500],\n",
        "    'Kredi_Skoru' : [700, 650, 750, 620, 710],\n",
        "    'Kredi_Onayı' : [1, 0, 1, 0, 1]\n",
        "  }\n",
        "\n",
        "df = pd.DataFrame(data)\n",
        "print(df)\n",
        "\n",
        "X = df[['Gelir', 'Borc', 'Kredi_Skoru']].values\n",
        "y = df['Kredi_Onayı'].values\n",
        "\n",
        "# Veriyi %80 eğitim, %20 test olarak ayır\n",
        "X_train, X_test, y_train, y_test = train_test_split(X, y, test_size=0.2, random_state=42)\n",
        "\n",
        "# Veriyi ölçeklendirme (standardizasyon)\n",
        "scaler = StandardScaler()\n",
        "X_train = scaler.fit_transform(X_train)  # Eğitim verisini ölçekle\n",
        "X_test = scaler.transform(X_test)  # Test verisini ölçekle\n",
        "\n",
        "# Kontrol için ölçeklenmiş X_train'i yazdır\n",
        "print(X_train)\n"
      ]
    },
    {
      "cell_type": "code",
      "source": [
        "model = keras.Sequential()\n",
        "model.add(keras.layers.Dense(16, activation='relu', input_shape=(3,)))\n",
        "model.add(keras.layers.Dense(8, activation='relu'))\n",
        "model.add(keras.layers.Dense(1, activation='sigmoid'))\n",
        "\n",
        "\n",
        "model.compile(optimizer='adam', loss='binary_crossentropy', metrics=['accuracy'])\n",
        "\n",
        "model.fit(X_train, y_train, epochs=100, batch_size=32)\n",
        "\n",
        "loss, accuracy = model.evaluate(X_test, y_test)\n",
        "print(f'Test Accuracy: {accuracy:.2f}')\n",
        "print(f'Test Loss: {loss:.4f}')"
      ],
      "metadata": {
        "id": "B2008NXfqIDa"
      },
      "execution_count": null,
      "outputs": []
    },
    {
      "cell_type": "code",
      "source": [
        "# Modelin öğrendiği ağırlıkları ve bias değerlerini düzenli yazdır\n",
        "for i, layer in enumerate(model.layers):\n",
        "    weights, biases = layer.get_weights()\n",
        "    print(f\"\\n KATMAN {i+1} \")\n",
        "    print(\"-- Ağırlıklar:\")\n",
        "    print(np.round(weights, 4))  # Ağırlıkları 4 ondalık basamağa yuvarlayarak yazdır\n",
        "    print(\"\\n-- Bias Değerleri:\")\n",
        "    print(np.round(biases, 4))\n",
        "    print(\"-\" * 40)  # Çıktıyı bölmek için\n"
      ],
      "metadata": {
        "id": "fomvZ7cRqaTu"
      },
      "execution_count": null,
      "outputs": []
    },
    {
      "cell_type": "code",
      "source": [
        "gelir = float(input(\"Gelirinizi Giriniz: \"))\n",
        "borc = float(input(\"Borcunuzu Giriniz: \"))\n",
        "kredi_skoru = float(input(\"Kredi Skoru Giriniz: \"))\n",
        "\n",
        "# Kullanıcı verisini NumPy array'e çevir\n",
        "kullanıcı = np.array([[gelir, borc, kredi_skoru]])\n",
        "\n",
        "# Kullanıcı verisini ekrana yazdır\n",
        "print(\"Kullanıcı Verisi:\", kullanıcı)\n",
        "\n",
        "# Kullanıcı verisini ölçeklendirme\n",
        "kullanıcı_ölcek = scaler.transform(kullanıcı)\n",
        "\n",
        "# Ölçeklendirilmiş veriyi ekrana yazdır\n",
        "print(\"Ölçeklendirilmiş Kullanıcı Verisi:\", kullanıcı_ölcek)\n",
        "\n"
      ],
      "metadata": {
        "id": "99hCKv7Irq7U"
      },
      "execution_count": null,
      "outputs": []
    },
    {
      "cell_type": "code",
      "source": [
        "w1, w2, w3 = 0.3307, 0.5283, 0.6808\n",
        "b = 0.0925\n",
        "\n",
        "X1, X2, X3 = kullanıcı_ölcek[0]\n",
        "\n",
        "Z = (X1 * w1) + (X2 * w2) + (X3 * w3) + b\n",
        "\n",
        "print(\"Ağırlıklı Toplam:\", Z)"
      ],
      "metadata": {
        "id": "eanWegjNt0R6"
      },
      "execution_count": null,
      "outputs": []
    },
    {
      "cell_type": "code",
      "source": [
        "def sigmoid(z):\n",
        "  return 1 / (1 + np.exp(-z))\n",
        "\n",
        "sigmoid_output = sigmoid(Z)\n",
        "print(\"Sigmoid Sonucu:\", sigmoid_output)"
      ],
      "metadata": {
        "id": "roY25qyNvUL1"
      },
      "execution_count": null,
      "outputs": []
    },
    {
      "cell_type": "code",
      "source": [
        "if sigmoid_output > 0.5:\n",
        "  print(\"Kredi Onaylandı\")\n",
        "\n",
        "else:\n",
        "    print(\"Kredi Reddedildi\")"
      ],
      "metadata": {
        "id": "pwdAx-4GwBmq"
      },
      "execution_count": null,
      "outputs": []
    }
  ]
}